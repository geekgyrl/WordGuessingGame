{
 "cells": [
  {
   "cell_type": "markdown",
   "id": "0470d391",
   "metadata": {},
   "source": [
    "## Import packages"
   ]
  },
  {
   "cell_type": "code",
   "execution_count": null,
   "id": "27a3d55e",
   "metadata": {},
   "outputs": [],
   "source": [
    "import random\n",
    "#list of words\n",
    "words = ['trumpet', 'tuba', 'trombone', 'viola', 'saxophone', \n",
    "         'violin', 'cello', 'double bass', 'flute','piano', \n",
    "         'bassoon', 'clarinet', 'oboe', 'french horn', 'harp', 'timpani']\n",
    "#generate random word from the list\n",
    "guessed_word = random.choice(words)\n",
    "guessed_word\n",
    "\n",
    "hint = guessed_word[0] + guessed_word[-1]\n",
    "hint\n",
    "store_g_l=[]\n",
    "try_p =5\n",
    "#ask name\n",
    "name = input(\"Enter your name \")\n",
    "print(f\"Hi\" name, ***Welcome to the Instrument Word Guessing Game***\")\n",
    "print(\"\\n You have 5 attempts to guess the word correctly.\")\n",
    "\n",
    "#create an empty list\n",
    "for i in range(try_p):\n",
    "    while True: \n",
    "        letter = input('Guess the letter: ')\n",
    "        \n",
    "        if len(letter) ==1:\n",
    "            break\n",
    "        else:\n",
    "            print(\"Oops! Please guess a letter!\")\n",
    "    \n",
    "    if letter in guessed_word:\n",
    "        print('Yes!')\n",
    "        store_g_l.append(letter)\n",
    "    else:\n",
    "        print('No!')\n",
    "        \n",
    "    if i == 2:\n",
    "        print()\n",
    "        clue_request = input('Would you like a clue?')\n",
    "        if clue_request.lower().startswith('y'):\n",
    "            print()\n",
    "            print('CLUE: The first and last letter of the word is: ', hint)\n",
    "        else:\n",
    "            print('You\\'re very confident!')\n",
    "print()\n",
    "print('Now Lets see what you have guessed so far. You have guessed: ''',len(store_g_l), 'letters correctly.')\n",
    "print('These letters are: ', store_g_l)\n",
    "                  \n",
    "word_guess = input('Guess the whole word ')\n",
    "if word_guess.lower() == guessed_word:\n",
    "    print ('Congrats! you are correct')\n",
    "else:\n",
    "    print('Sorry! The answer was,', guessed_word)\n",
    "\n",
    "print()\n",
    "input('please press Enter to leave the program')"
   ]
  },
  {
   "cell_type": "code",
   "execution_count": 8,
   "id": "165b2da5",
   "metadata": {},
   "outputs": [],
   "source": [
    "import random"
   ]
  },
  {
   "cell_type": "code",
   "execution_count": 9,
   "id": "02a9a99a",
   "metadata": {},
   "outputs": [],
   "source": [
    "#list of words\n",
    "words = ['trumpet', 'tuba', 'trombone', 'viola', 'saxophone', \n",
    "         'violin', 'cello', 'double bass', 'flute','piano', \n",
    "         'bassoon', 'clarinet', 'oboe', 'french horn', 'harp', 'timpani']"
   ]
  },
  {
   "cell_type": "code",
   "execution_count": 10,
   "id": "030abd8e",
   "metadata": {},
   "outputs": [
    {
     "data": {
      "text/plain": [
       "'double bass'"
      ]
     },
     "execution_count": 10,
     "metadata": {},
     "output_type": "execute_result"
    }
   ],
   "source": [
    "#generate random word from the list\n",
    "guessed_word = random.choice(words)\n",
    "guessed_word"
   ]
  },
  {
   "cell_type": "code",
   "execution_count": 11,
   "id": "8e65d8c0",
   "metadata": {},
   "outputs": [
    {
     "data": {
      "text/plain": [
       "'ds'"
      ]
     },
     "execution_count": 11,
     "metadata": {},
     "output_type": "execute_result"
    }
   ],
   "source": [
    "hint = guessed_word[0] + guessed_word[-1]\n",
    "hint"
   ]
  },
  {
   "cell_type": "code",
   "execution_count": 12,
   "id": "762ad362",
   "metadata": {},
   "outputs": [
    {
     "name": "stdout",
     "output_type": "stream",
     "text": [
      "Enter your name Joy Glover\n",
      "Hi Joy Glover, ***Welcome to the Instrument Word Guessing Game***\n",
      "\n",
      " You have 5 attempts to guess the word correctly.\n"
     ]
    }
   ],
   "source": [
    "store_g_l=[]\n",
    "try_p =5\n",
    "#ask name\n",
    "name = input(\"Enter your name \")\n",
    "print(f\"Hi {name}, ***Welcome to the Instrument Word Guessing Game***\")\n",
    "print(\"\\n You have 5 attempts to guess the word correctly.\")"
   ]
  },
  {
   "cell_type": "code",
   "execution_count": null,
   "id": "2cc22bf5",
   "metadata": {},
   "outputs": [],
   "source": [
    "#create an empty list\n",
    "for i in range(try_p):\n",
    "    while True: \n",
    "        letter = input('Guess the letter: ')\n",
    "        \n",
    "        if len(letter) ==1:\n",
    "            break\n",
    "        else:\n",
    "            print(\"Oops! Please guess a letter!\")\n",
    "    \n",
    "    if letter in guessed_word:\n",
    "        print('Yes!')\n",
    "        store_g_l.append(letter)\n",
    "    else:\n",
    "        print('No!')\n",
    "        \n",
    "    if i == 2:\n",
    "        print()\n",
    "        clue_request = input('Would you like a clue?')\n",
    "        if clue_request.lower().startswith('y'):\n",
    "            print()\n",
    "            print('CLUE: The first and last letter of the word is: ', hint)\n",
    "        else:\n",
    "            print('You\\'re very confident!')\n",
    "print()\n",
    "print('Now Lets see what you have guessed so far. You have guessed: ''',len(store_g_l), 'letters correctly.')\n",
    "print('These letters are: ', store_g_l)\n",
    "                  \n",
    "word_guess = input('Guess the whole word ')\n",
    "if word_guess.lower() == guessed_word:\n",
    "    print ('Congrats! you are correct')\n",
    "else:\n",
    "    print('Sorry! The answer was,', guessed_word)\n",
    "\n",
    "print()\n",
    "input('please press Enter to leave the program')"
   ]
  }
 ],
 "metadata": {
  "kernelspec": {
   "display_name": "Python 3",
   "language": "python",
   "name": "python3"
  },
  "language_info": {
   "codemirror_mode": {
    "name": "ipython",
    "version": 3
   },
   "file_extension": ".py",
   "mimetype": "text/x-python",
   "name": "python",
   "nbconvert_exporter": "python",
   "pygments_lexer": "ipython3",
   "version": "3.8.8"
  }
 },
 "nbformat": 4,
 "nbformat_minor": 5
}
